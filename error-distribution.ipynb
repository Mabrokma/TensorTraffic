{
 "cells": [
  {
   "cell_type": "code",
   "execution_count": null,
   "metadata": {
    "collapsed": false
   },
   "outputs": [],
   "source": [
    "import tensorflow as tf\n",
    "import numpy as np\n",
    "from keras.models import Sequential\n",
    "from keras.layers import Dense, Dropout, BatchNormalization\n",
    "from keras.optimizers import Adam\n",
    "from keras.callbacks import EarlyStopping"
   ]
  },
  {
   "cell_type": "code",
   "execution_count": null,
   "metadata": {
    "collapsed": false
   },
   "outputs": [],
   "source": [
    "all_data = tf.contrib.learn.datasets.base.load_csv_without_header(\n",
    "      filename='micro_data.csv',\n",
    "      target_dtype=np.float32,\n",
    "      features_dtype=np.float32)"
   ]
  },
  {
   "cell_type": "code",
   "execution_count": null,
   "metadata": {
    "collapsed": true
   },
   "outputs": [],
   "source": [
    "def get_sample(data, sample_size = 20000):\n",
    "    h = np.random.permutation(data.target.shape[0])\n",
    "    X_sample = data.data[h[:sample_size], :]\n",
    "    target_sample = data.target[h[:sample_size]]\n",
    "    return X_sample, target_sample"
   ]
  },
  {
   "cell_type": "code",
   "execution_count": null,
   "metadata": {
    "collapsed": true
   },
   "outputs": [],
   "source": [
    "X, y = get_sample(all_data, sample_size=all_data.target.shape[0])"
   ]
  },
  {
   "cell_type": "code",
   "execution_count": null,
   "metadata": {
    "collapsed": false
   },
   "outputs": [],
   "source": [
    "X = np.delete(X, [15, 16], 1)"
   ]
  },
  {
   "cell_type": "code",
   "execution_count": null,
   "metadata": {
    "collapsed": false
   },
   "outputs": [],
   "source": [
    "X = (X - np.mean(X, axis=0, keepdims=True)) / np.std(X, axis=0, keepdims=True)"
   ]
  },
  {
   "cell_type": "code",
   "execution_count": null,
   "metadata": {
    "collapsed": true
   },
   "outputs": [],
   "source": [
    "y_std = np.std(y)\n",
    "y_min = np.min(y)\n",
    "y = (y - y_min) / y_std + 1"
   ]
  },
  {
   "cell_type": "code",
   "execution_count": null,
   "metadata": {
    "collapsed": false
   },
   "outputs": [],
   "source": [
    "def build_model(no_layers=2, no_units=100, dropout=0.6):\n",
    "    initial_dropout = dropout / no_layers\n",
    "    model = Sequential()\n",
    "    model.add(Dense(no_units, input_dim=X.shape[1], activation='relu'))\n",
    "    model.add(Dropout(initial_dropout))\n",
    "    model.add(BatchNormalization())\n",
    "    \n",
    "    for i in range(no_layers - 1):\n",
    "        model.add(Dense(no_units, activation='relu'))\n",
    "        model.add(Dropout(initial_dropout * (i + 2)))\n",
    "        model.add(BatchNormalization())\n",
    "        \n",
    "    model.add(Dense(1))\n",
    "    model.compile(loss='mape', metrics=[], optimizer=Adam(lr=0.001))\n",
    "    return model"
   ]
  },
  {
   "cell_type": "code",
   "execution_count": null,
   "metadata": {
    "collapsed": true
   },
   "outputs": [],
   "source": [
    "model = build_model(no_layers=3)"
   ]
  },
  {
   "cell_type": "code",
   "execution_count": null,
   "metadata": {
    "collapsed": true
   },
   "outputs": [],
   "source": [
    "def train_test_split(X, y, train_ratio):\n",
    "    h = np.random.permutation(X.shape[0])\n",
    "    n_train = int(train_ratio * X.shape[0])\n",
    "    X_train = X[h[:n_train], :]\n",
    "    X_test = X[h[n_train:], :]\n",
    "    y_train = y[h[:n_train]]\n",
    "    y_test = y[h[n_train:]]\n",
    "    return X_train, X_test, y_train, y_test"
   ]
  },
  {
   "cell_type": "code",
   "execution_count": null,
   "metadata": {
    "collapsed": true
   },
   "outputs": [],
   "source": [
    "X_train, X_test, y_train, y_test = train_test_split(X, y, 0.8)"
   ]
  },
  {
   "cell_type": "code",
   "execution_count": null,
   "metadata": {
    "collapsed": false
   },
   "outputs": [],
   "source": [
    "history = model.fit(X_train,\n",
    "                    y_train,\n",
    "                    validation_data=(X_test, y_test),\n",
    "                    epochs=100000,\n",
    "                    batch_size=10240,\n",
    "                    verbose=0,\n",
    "                    callbacks=[EarlyStopping(monitor='val_loss', patience=10000)])"
   ]
  },
  {
   "cell_type": "code",
   "execution_count": null,
   "metadata": {
    "collapsed": false
   },
   "outputs": [],
   "source": [
    "%matplotlib inline\n",
    "import matplotlib.pyplot as plt\n",
    "\n",
    "plt.plot(history.history['loss'], c='red')\n",
    "plt.plot(history.history['val_loss'], c='blue')"
   ]
  },
  {
   "cell_type": "code",
   "execution_count": null,
   "metadata": {
    "collapsed": false
   },
   "outputs": [],
   "source": [
    "plt.plot(history.history['loss'][200:], c='red')\n",
    "plt.plot(history.history['val_loss'][200:], c='blue')"
   ]
  },
  {
   "cell_type": "code",
   "execution_count": null,
   "metadata": {
    "collapsed": true
   },
   "outputs": [],
   "source": [
    "def get_errors(actual, predicted):\n",
    "    actual = actual.flatten()\n",
    "    predicted = predicted.flatten()\n",
    "    actual = (actual - 1) * y_std + y_min \n",
    "    predicted = (predicted - 1) * y_std + y_min\n",
    "    error = np.abs(actual - predicted)\n",
    "    rel_error = np.abs(actual - predicted) / actual\n",
    "    return np.max(error), np.mean(error), np.max(rel_error), np.mean(rel_error)"
   ]
  },
  {
   "cell_type": "code",
   "execution_count": null,
   "metadata": {
    "collapsed": false
   },
   "outputs": [],
   "source": [
    "predicted = model.predict(X_test)\n",
    "get_errors(y_test, predicted)"
   ]
  },
  {
   "cell_type": "code",
   "execution_count": null,
   "metadata": {
    "collapsed": false
   },
   "outputs": [],
   "source": [
    "predicted_train = model.predict(X_train)\n",
    "get_errors(y_train, predicted_train)"
   ]
  }
 ],
 "metadata": {
  "kernelspec": {
   "display_name": "Python 3",
   "language": "python",
   "name": "python3"
  },
  "language_info": {
   "codemirror_mode": {
    "name": "ipython",
    "version": 3.0
   },
   "file_extension": ".py",
   "mimetype": "text/x-python",
   "name": "python",
   "nbconvert_exporter": "python",
   "pygments_lexer": "ipython3",
   "version": "3.5.2"
  }
 },
 "nbformat": 4,
 "nbformat_minor": 0
}