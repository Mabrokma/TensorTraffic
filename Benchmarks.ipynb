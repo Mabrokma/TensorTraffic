{
 "cells": [
  {
   "cell_type": "code",
   "execution_count": 3,
   "metadata": {
    "collapsed": false
   },
   "outputs": [],
   "source": [
    "from train import *\n",
    "import pandas as pd\n",
    "import matplotlib.pyplot as plt\n",
    "%matplotlib inline\n",
    "\n",
    "from sklearn.linear_model import LinearRegression\n",
    "from sklearn.ensemble import RandomForestRegressor"
   ]
  },
  {
   "cell_type": "code",
   "execution_count": 4,
   "metadata": {
    "collapsed": false
   },
   "outputs": [
    {
     "data": {
      "text/plain": [
       "{'cv_folds': 5,\n",
       " 'div_const': 100,\n",
       " 'dropout': 0.0,\n",
       " 'layers': [100, 100],\n",
       " 'learning_rate': 0.01,\n",
       " 'max_steps': 100,\n",
       " 'test_ratio': 0.2,\n",
       " 'training_set_size': 90000}"
      ]
     },
     "execution_count": 4,
     "metadata": {},
     "output_type": "execute_result"
    }
   ],
   "source": [
    "number_of_train_test_splits = 100\n",
    "PARAMS"
   ]
  },
  {
   "cell_type": "code",
   "execution_count": 5,
   "metadata": {
    "collapsed": false
   },
   "outputs": [],
   "source": [
    "all_data = tf.contrib.learn.datasets.base.load_csv_without_header(\n",
    "    filename=\"micro_data.csv\",\n",
    "    target_dtype=np.float32,\n",
    "    features_dtype=np.float32) \n",
    "\n",
    "X = all_data.data[:,:15]\n",
    "y = all_data.target / PARAMS['div_const']\n",
    "X = (X - np.mean(X, axis=0, keepdims=True))/np.std(X, axis=0, keepdims=True)\n",
    "\n",
    "y_std = np.std(y)\n",
    "y_mean = np.mean(y)"
   ]
  },
  {
   "cell_type": "code",
   "execution_count": 14,
   "metadata": {
    "collapsed": true
   },
   "outputs": [],
   "source": [
    "def get_errors(actual, predicted):\n",
    "    actual = actual.flatten()\n",
    "    predicted = predicted.flatten()\n",
    "    actual = actual * y_std + y_mean\n",
    "    predicted = predicted * y_std + y_mean\n",
    "    error = np.abs(actual - predicted)\n",
    "    rel_error = np.abs(actual - predicted) / actual\n",
    "    return {\n",
    "        \"relative_max_err\":np.max(rel_error), \n",
    "        \"relative_avg_err\":np.mean(rel_error)\n",
    "    }\n",
    "\n",
    "def get_error_distribution(X, y, model, number_of_splits):\n",
    "    stats_dicts = []\n",
    "    for i in range(number_of_splits):\n",
    "        print(\"\\r\", i, end = \"\")\n",
    "        X_train, X_test, y_train, y_test = train_test_split(\n",
    "            X, y, test_size=PARAMS['test_ratio'])\n",
    "        model.fit(X_train, y_train)\n",
    "        pred = model.predict(X_test)\n",
    "        \n",
    "        stats_dicts.append(get_errors(y_test, pred))\n",
    "        \n",
    "    stats_df = pd.DataFrame(stats_dicts)\n",
    "    return stats_df"
   ]
  },
  {
   "cell_type": "markdown",
   "metadata": {},
   "source": [
    "# Linear Regression"
   ]
  },
  {
   "cell_type": "code",
   "execution_count": 15,
   "metadata": {
    "collapsed": false
   },
   "outputs": [],
   "source": [
    "lin_reg = LinearRegression()"
   ]
  },
  {
   "cell_type": "code",
   "execution_count": 16,
   "metadata": {
    "collapsed": false
   },
   "outputs": [
    {
     "name": "stdout",
     "output_type": "stream",
     "text": [
      " 99"
     ]
    }
   ],
   "source": [
    "stats_df = get_error_distribution(X, y, lin_reg, number_of_train_test_splits)"
   ]
  },
  {
   "cell_type": "code",
   "execution_count": 17,
   "metadata": {
    "collapsed": false
   },
   "outputs": [
    {
     "data": {
      "text/plain": [
       "relative_avg_err    0.071516\n",
       "relative_max_err    0.300497\n",
       "dtype: float64"
      ]
     },
     "execution_count": 17,
     "metadata": {},
     "output_type": "execute_result"
    }
   ],
   "source": [
    "stats_df.mean(axis=0)"
   ]
  },
  {
   "cell_type": "code",
   "execution_count": 18,
   "metadata": {
    "collapsed": false
   },
   "outputs": [
    {
     "data": {
      "image/png": "[encoded data removed]",
      "text/plain": [
       "<matplotlib.figure.Figure at 0x7fbc6118f860>"
      ]
     },
     "metadata": {},
     "output_type": "display_data"
    }
   ],
   "source": [
    "plt.figure(figsize=(12,6))\n",
    "plt.subplot(1, 2, 1, title = \"Distribution of Average Relative Error\")\n",
    "plt.hist(stats_df[\"relative_avg_err\"].values)\n",
    "plt.subplot(1, 2, 2, title = \"Distribution of Maximal Relative Error\")\n",
    "plt.hist(stats_df[\"relative_max_err\"].values)\n",
    "plt.show()"
   ]
  },
  {
   "cell_type": "markdown",
   "metadata": {},
   "source": [
    "# Random Forest"
   ]
  },
  {
   "cell_type": "code",
   "execution_count": 22,
   "metadata": {
    "collapsed": false
   },
   "outputs": [],
   "source": [
    "rf = RandomForestRegressor(30, n_jobs=4)\n",
    "number_of_train_test_splits = 30"
   ]
  },
  {
   "cell_type": "code",
   "execution_count": 23,
   "metadata": {
    "collapsed": false
   },
   "outputs": [
    {
     "name": "stdout",
     "output_type": "stream",
     "text": [
      " 29"
     ]
    }
   ],
   "source": [
    "stats_df = get_error_distribution(X, y, rf, number_of_train_test_splits)"
   ]
  },
  {
   "cell_type": "code",
   "execution_count": 24,
   "metadata": {
    "collapsed": false
   },
   "outputs": [
    {
     "data": {
      "text/plain": [
       "relative_avg_err    0.022584\n",
       "relative_max_err    0.113705\n",
       "dtype: float64"
      ]
     },
     "execution_count": 24,
     "metadata": {},
     "output_type": "execute_result"
    }
   ],
   "source": [
    "stats_df.mean(axis=0)"
   ]
  },
  {
   "cell_type": "code",
   "execution_count": 25,
   "metadata": {
    "collapsed": false
   },
   "outputs": [
    {
     "data": {
      "image/png": "[encoded data removed]",
      "text/plain": [
       "<matplotlib.figure.Figure at 0x7fbc6118f240>"
      ]
     },
     "metadata": {},
     "output_type": "display_data"
    }
   ],
   "source": [
    "plt.figure(figsize=(12,6))\n",
    "plt.subplot(1, 2, 1, title = \"Distribution of Average Relative Error\")\n",
    "plt.hist(stats_df[\"relative_avg_err\"].values)\n",
    "plt.subplot(1, 2, 2, title = \"Distribution of Maximal Relative Error\")\n",
    "plt.hist(stats_df[\"relative_max_err\"].values)\n",
    "plt.show()"
   ]
  },
  {
   "cell_type": "code",
   "execution_count": null,
   "metadata": {
    "collapsed": true
   },
   "outputs": [],
   "source": [
    ""
   ]
  }
 ],
 "metadata": {
  "anaconda-cloud": {},
  "kernelspec": {
   "display_name": "Python [Root]",
   "language": "python",
   "name": "Python [Root]"
  }
 },
 "nbformat": 4,
 "nbformat_minor": 0
}