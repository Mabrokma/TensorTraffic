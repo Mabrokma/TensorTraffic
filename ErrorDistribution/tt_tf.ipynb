{
 "cells": [
  {
   "cell_type": "code",
   "execution_count": 1,
   "metadata": {
    "collapsed": false
   },
   "outputs": [],
   "source": [
    "from train import *\n",
    "import pandas as pd\n",
    "import matplotlib.pyplot as plt\n",
    "%matplotlib inline\n",
    "\n",
    "logging.getLogger('tensorflow').setLevel(logging.WARNING)"
   ]
  },
  {
   "cell_type": "code",
   "execution_count": 2,
   "metadata": {
    "collapsed": false
   },
   "outputs": [
    {
     "data": {
      "text/plain": [
       "{'cv_folds': 5,\n",
       " 'div_const': 100,\n",
       " 'dropout': 0.0,\n",
       " 'layers': [100, 100],\n",
       " 'learning_rate': 0.01,\n",
       " 'max_steps': 100,\n",
       " 'test_ratio': 0.2,\n",
       " 'training_set_size': 90000}"
      ]
     },
     "execution_count": 2,
     "metadata": {},
     "output_type": "execute_result"
    }
   ],
   "source": [
    "number_of_train_test_splits = 30\n",
    "PARAMS"
   ]
  },
  {
   "cell_type": "code",
   "execution_count": 3,
   "metadata": {
    "collapsed": true
   },
   "outputs": [],
   "source": [
    "all_data = tf.contrib.learn.datasets.base.load_csv_without_header(\n",
    "    filename=\"micro_data.csv\",\n",
    "    target_dtype=np.float32,\n",
    "    features_dtype=np.float32) \n",
    "\n",
    "X = all_data.data[:,:15]\n",
    "y = all_data.target / PARAMS['div_const']\n",
    "X = (X - np.mean(X, axis=0, keepdims=True))/np.std(X, axis=0, keepdims=True)"
   ]
  },
  {
   "cell_type": "code",
   "execution_count": 11,
   "metadata": {
    "collapsed": false
   },
   "outputs": [],
   "source": [
    "def stats(normalized_X, normalized_y):\n",
    "    X_train, X_test, y_train, y_test = train_test_split(\n",
    "        normalized_X, normalized_y, test_size=PARAMS['test_ratio'])\n",
    "    return do_training(1, X_train, X_test, y_train, y_test)\n",
    "\n",
    "def get_error_distribution(X, y, number_of_splits):\n",
    "    stats_dicts = []\n",
    "    for i in range(number_of_splits):\n",
    "        print(i)\n",
    "        stats_dicts.append(stats(X, y))\n",
    "    stats_df = pd.DataFrame(stats_dicts)\n",
    "    return stats_df"
   ]
  },
  {
   "cell_type": "code",
   "execution_count": 5,
   "metadata": {
    "collapsed": false
   },
   "outputs": [
    {
     "name": "stdout",
     "output_type": "stream",
     "text": [
      "0\n",
      "Removing old model dir...\n",
      "1\n",
      "Removing old model dir...\n",
      "2\n",
      "Removing old model dir...\n",
      "3\n",
      "Removing old model dir...\n",
      "4\n",
      "Removing old model dir...\n",
      "5\n",
      "Removing old model dir...\n",
      "6\n",
      "Removing old model dir...\n",
      "7\n",
      "Removing old model dir...\n",
      "8\n",
      "Removing old model dir...\n",
      "9\n",
      "Removing old model dir...\n",
      "10\n",
      "Removing old model dir...\n",
      "11\n",
      "Removing old model dir...\n",
      "12\n",
      "Removing old model dir...\n",
      "13\n",
      "Removing old model dir...\n",
      "14\n",
      "Removing old model dir...\n",
      "15\n",
      "Removing old model dir...\n",
      "16\n",
      "Removing old model dir...\n",
      "17\n",
      "Removing old model dir...\n",
      "18\n",
      "Removing old model dir...\n",
      "19\n",
      "Removing old model dir...\n",
      "20\n",
      "Removing old model dir...\n",
      "21\n",
      "Removing old model dir...\n",
      "22\n",
      "Removing old model dir...\n",
      "23\n",
      "Removing old model dir...\n",
      "24\n",
      "Removing old model dir...\n",
      "25\n",
      "Removing old model dir...\n",
      "26\n",
      "Removing old model dir...\n",
      "27\n",
      "Removing old model dir...\n",
      "28\n",
      "Removing old model dir...\n",
      "29\n",
      "Removing old model dir...\n"
     ]
    }
   ],
   "source": [
    "stats_df = get_error_distribution(X, y, number_of_train_test_splits)"
   ]
  },
  {
   "cell_type": "code",
   "execution_count": 6,
   "metadata": {
    "collapsed": false
   },
   "outputs": [
    {
     "data": {
      "image/png": "[encoded data removed]",
      "text/plain": [
       "<matplotlib.figure.Figure at 0x7f35e08ecd30>"
      ]
     },
     "metadata": {},
     "output_type": "display_data"
    }
   ],
   "source": [
    "plt.figure(figsize=(12,6))\n",
    "plt.subplot(1, 2, 1, title = \"Distribution of Average Relative Error\")\n",
    "plt.hist(stats_df[\"relative_avg_err\"].values)\n",
    "plt.subplot(1, 2, 2, title = \"Distribution of Maximal Relative Error\")\n",
    "plt.hist(stats_df[\"relative_max_err\"].values)\n",
    "plt.show()"
   ]
  }
 ],
 "metadata": {
  "anaconda-cloud": {},
  "kernelspec": {
   "display_name": "Python [Root]",
   "language": "python",
   "name": "Python [Root]"
  },
  "language_info": {
   "codemirror_mode": {
    "name": "ipython",
    "version": 3.0
   },
   "file_extension": ".py",
   "mimetype": "text/x-python",
   "name": "python",
   "nbconvert_exporter": "python",
   "pygments_lexer": "ipython3",
   "version": "3.5.2"
  }
 },
 "nbformat": 4,
 "nbformat_minor": 0
}